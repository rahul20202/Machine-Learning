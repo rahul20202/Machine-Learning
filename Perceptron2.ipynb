{
 "cells": [
  {
   "cell_type": "code",
   "execution_count": 89,
   "metadata": {},
   "outputs": [],
   "source": [
    "import sklearn.datasets\n",
    "import numpy as np\n",
    "import matplotlib.pyplot as plt\n",
    "from sklearn.metrics import accuracy_score"
   ]
  },
  {
   "cell_type": "markdown",
   "metadata": {},
   "source": [
    "# Loading dataset"
   ]
  },
  {
   "cell_type": "code",
   "execution_count": 90,
   "metadata": {},
   "outputs": [],
   "source": [
    "breast_cancer=sklearn.datasets.load_breast_cancer()\n",
    "x=breast_cancer.data\n",
    "y=breast_cancer.target"
   ]
  },
  {
   "cell_type": "code",
   "execution_count": 91,
   "metadata": {},
   "outputs": [
    {
     "name": "stdout",
     "output_type": "stream",
     "text": [
      "(569, 30) (569,)\n"
     ]
    }
   ],
   "source": [
    "print(x.shape,y.shape)"
   ]
  },
  {
   "cell_type": "markdown",
   "metadata": {},
   "source": [
    "# Train Test Split"
   ]
  },
  {
   "cell_type": "code",
   "execution_count": 92,
   "metadata": {},
   "outputs": [
    {
     "name": "stdout",
     "output_type": "stream",
     "text": [
      "(569,) (57,) (512,)\n"
     ]
    }
   ],
   "source": [
    "from sklearn.model_selection import train_test_split\n",
    "x_train,x_test,y_train,y_test=train_test_split(x,y,test_size=0.1,stratify=y)\n",
    "print(y.shape,y_test.shape,y_train.shape)"
   ]
  },
  {
   "cell_type": "code",
   "execution_count": 93,
   "metadata": {},
   "outputs": [],
   "source": [
    "def model(w,b,x):\n",
    "    return 1 if (np.dot(w,x)>=b) else 0\n",
    "def predict(w,b,X):\n",
    "    y=[]\n",
    "    for x in X:\n",
    "        result=model(w,b,x)\n",
    "        y.append(result)\n",
    "    return np.array(y)\n",
    "def fit(X,Y,epochs=1,lr=1):\n",
    "    w=np.ones(X.shape[1])\n",
    "    b=0\n",
    "    \n",
    "    accuracy={}\n",
    "    max_accuracy=0\n",
    "    \n",
    "    wt_matrix=[]\n",
    "    \n",
    "    for i in range(epochs):\n",
    "        for x,y in zip(X,Y):\n",
    "            y_pred=model(w,b,x)\n",
    "            if y==1 and y_pred==0:\n",
    "                w=w+lr*x\n",
    "                b=b-lr*1\n",
    "            elif y==0 and y_pred==1:\n",
    "                w=w-lr*x\n",
    "                b=b+lr*1\n",
    "        wt_matrix.append(w)\n",
    "        \n",
    "        accuracy[i]=accuracy_score(predict(w,b,X),Y)\n",
    "        if accuracy[i]>max_accuracy:\n",
    "            max_accuracy=accuracy[i]\n",
    "            chkptw=w\n",
    "            chkptb=b\n",
    "        w=chkptw\n",
    "        b=chkptb\n",
    "        \n",
    "    print(max_accuracy)\n",
    "        \n",
    "    plt.plot(list(accuracy.values()))\n",
    "    plt.ylim([0,1])\n",
    "    plt.show()\n",
    "        \n",
    "    return np.array(wt_matrix),w,b"
   ]
  },
  {
   "cell_type": "code",
   "execution_count": 94,
   "metadata": {},
   "outputs": [
    {
     "name": "stdout",
     "output_type": "stream",
     "text": [
      "0.796875\n"
     ]
    },
    {
     "data": {
      "image/png": "[encoded data removed]",
      "text/plain": [
       "<Figure size 432x288 with 1 Axes>"
      ]
     },
     "metadata": {},
     "output_type": "display_data"
    },
    {
     "name": "stdout",
     "output_type": "stream",
     "text": [
      "0.8596491228070176\n"
     ]
    }
   ],
   "source": [
    "wt_matrix,w,b=fit(x_train,y_train,10000,0.5)\n",
    "y_pred_test=predict(w,b,x_test)\n",
    "print(accuracy_score(y_pred_test,y_test))"
   ]
  }
 ],
 "metadata": {
  "kernelspec": {
   "display_name": "Python 3",
   "language": "python",
   "name": "python3"
  },
  "language_info": {
   "codemirror_mode": {
    "name": "ipython",
    "version": 3
   },
   "file_extension": ".py",
   "mimetype": "text/x-python",
   "name": "python",
   "nbconvert_exporter": "python",
   "pygments_lexer": "ipython3",
   "version": "3.6.5"
  }
 },
 "nbformat": 4,
 "nbformat_minor": 2
}
