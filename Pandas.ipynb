{
 "cells": [
  {
   "cell_type": "markdown",
   "metadata": {},
   "source": [
    "Generate a 5*4 array"
   ]
  },
  {
   "cell_type": "code",
   "execution_count": 1,
   "metadata": {},
   "outputs": [],
   "source": [
    "import numpy as np\n",
    "import pandas as pd"
   ]
  },
  {
   "cell_type": "code",
   "execution_count": 39,
   "metadata": {},
   "outputs": [],
   "source": [
    "np.random.seed(42)\n",
    "random_array=np.random.randint(0,100,(5,4))"
   ]
  },
  {
   "cell_type": "code",
   "execution_count": 40,
   "metadata": {},
   "outputs": [
    {
     "name": "stdout",
     "output_type": "stream",
     "text": [
      "    A   B   C   D\n",
      "V  51  92  14  71\n",
      "W  60  20  82  86\n",
      "X  74  74  87  99\n",
      "Y  23   2  21  52\n",
      "Z   1  87  29  37\n"
     ]
    }
   ],
   "source": [
    "df=pd.DataFrame(random_array,columns=['A','B','C','D'],index=['V','W','X','Y','Z'])\n",
    "print(df)"
   ]
  },
  {
   "cell_type": "markdown",
   "metadata": {},
   "source": [
    "Selecting specific rows"
   ]
  },
  {
   "cell_type": "code",
   "execution_count": 10,
   "metadata": {},
   "outputs": [
    {
     "name": "stdout",
     "output_type": "stream",
     "text": [
      "    A   B   C   D\n",
      "W  60  20  82  86\n",
      "X  74  74  87  99\n",
      "Y  23   2  21  52\n"
     ]
    }
   ],
   "source": [
    "print(df.loc['W':'Y'])"
   ]
  },
  {
   "cell_type": "markdown",
   "metadata": {},
   "source": [
    "Using integer based indexing"
   ]
  },
  {
   "cell_type": "code",
   "execution_count": 19,
   "metadata": {},
   "outputs": [
    {
     "name": "stdout",
     "output_type": "stream",
     "text": [
      "    A   B   C   D\n",
      "V  51  92  14  71\n",
      "W  60  20  82  86\n",
      "X  74  74  87  99\n"
     ]
    }
   ],
   "source": [
    "print(df[:3])"
   ]
  },
  {
   "cell_type": "markdown",
   "metadata": {},
   "source": [
    "Selecting specific columns"
   ]
  },
  {
   "cell_type": "code",
   "execution_count": 22,
   "metadata": {},
   "outputs": [
    {
     "name": "stdout",
     "output_type": "stream",
     "text": [
      "    A   C\n",
      "V  51  14\n",
      "W  60  82\n",
      "X  74  87\n",
      "Y  23  21\n",
      "Z   1  29\n"
     ]
    }
   ],
   "source": [
    "print(df[['A','C']])"
   ]
  },
  {
   "cell_type": "markdown",
   "metadata": {},
   "source": [
    "Selecting specific rows and columns"
   ]
  },
  {
   "cell_type": "code",
   "execution_count": 23,
   "metadata": {},
   "outputs": [
    {
     "name": "stdout",
     "output_type": "stream",
     "text": [
      "    B   D\n",
      "W  20  86\n",
      "X  74  99\n",
      "Y   2  52\n"
     ]
    }
   ],
   "source": [
    "#select rows 'W' to 'Y' and columns 'B' and 'D'\n",
    "print(df.loc['W':'Y',['B','D']])"
   ]
  },
  {
   "cell_type": "code",
   "execution_count": 25,
   "metadata": {},
   "outputs": [
    {
     "name": "stdout",
     "output_type": "stream",
     "text": [
      "    A   B\n",
      "V  51  92\n",
      "W  60  20\n",
      "X  74  74\n"
     ]
    }
   ],
   "source": [
    "#select first 3 rows and first 2 columns\n",
    "print(df.iloc[:3,:2])"
   ]
  },
  {
   "cell_type": "markdown",
   "metadata": {},
   "source": [
    "Conditional slicing"
   ]
  },
  {
   "cell_type": "code",
   "execution_count": 27,
   "metadata": {},
   "outputs": [
    {
     "name": "stdout",
     "output_type": "stream",
     "text": [
      "    A   B   C   D\n",
      "V  51  92  14  71\n",
      "W  60  20  82  86\n",
      "X  74  74  87  99\n"
     ]
    }
   ],
   "source": [
    "#select rows where column 'A' values are greater then 50\n",
    "print(df[df['A']>50])"
   ]
  },
  {
   "cell_type": "code",
   "execution_count": 31,
   "metadata": {},
   "outputs": [
    {
     "name": "stdout",
     "output_type": "stream",
     "text": [
      "    A   B   C   D\n",
      "V  51  92  14  71\n",
      "Y  23   2  21  52\n",
      "Z   1  87  29  37\n"
     ]
    }
   ],
   "source": [
    "#select rows where column 'C' values are less than 30\n",
    "print(df[df['C']<30])"
   ]
  },
  {
   "cell_type": "markdown",
   "metadata": {},
   "source": [
    "Dropping a row"
   ]
  },
  {
   "cell_type": "markdown",
   "metadata": {},
   "source": [
    "df_dropped_row=df.drop(index='X')\n",
    "print(df_dropped_row)"
   ]
  },
  {
   "cell_type": "markdown",
   "metadata": {},
   "source": [
    "Dropping multiple values"
   ]
  },
  {
   "cell_type": "code",
   "execution_count": 33,
   "metadata": {},
   "outputs": [
    {
     "name": "stdout",
     "output_type": "stream",
     "text": [
      "    A   B   C   D\n",
      "V  51  92  14  71\n",
      "X  74  74  87  99\n",
      "Z   1  87  29  37\n"
     ]
    }
   ],
   "source": [
    "df_dropped_rows=df.drop(index=['W','Y'])\n",
    "print(df_dropped_rows)"
   ]
  },
  {
   "cell_type": "markdown",
   "metadata": {},
   "source": [
    "Dropping a column"
   ]
  },
  {
   "cell_type": "code",
   "execution_count": 34,
   "metadata": {},
   "outputs": [
    {
     "name": "stdout",
     "output_type": "stream",
     "text": [
      "    A   B   D\n",
      "V  51  92  71\n",
      "W  60  20  86\n",
      "X  74  74  99\n",
      "Y  23   2  52\n",
      "Z   1  87  37\n"
     ]
    }
   ],
   "source": [
    "df_dropped_column=df.drop(columns='C')\n",
    "print(df_dropped_column)"
   ]
  },
  {
   "cell_type": "markdown",
   "metadata": {},
   "source": [
    "Dropping multiple columns"
   ]
  },
  {
   "cell_type": "code",
   "execution_count": 35,
   "metadata": {},
   "outputs": [
    {
     "name": "stdout",
     "output_type": "stream",
     "text": [
      "    B   C\n",
      "V  92  14\n",
      "W  20  82\n",
      "X  74  87\n",
      "Y   2  21\n",
      "Z  87  29\n"
     ]
    }
   ],
   "source": [
    "df_dropped_column=df.drop(columns=['A','D'])\n",
    "print(df_dropped_column)"
   ]
  },
  {
   "cell_type": "markdown",
   "metadata": {},
   "source": [
    "Dropping rows/columns inplace"
   ]
  },
  {
   "cell_type": "code",
   "execution_count": 36,
   "metadata": {},
   "outputs": [
    {
     "name": "stdout",
     "output_type": "stream",
     "text": [
      "    A   B   D\n",
      "V  51  92  71\n",
      "W  60  20  86\n",
      "Y  23   2  52\n",
      "Z   1  87  37\n"
     ]
    }
   ],
   "source": [
    "df.drop(index='X',inplace=True)\n",
    "df.drop(columns='C',inplace=True)\n",
    "print(df)"
   ]
  },
  {
   "cell_type": "markdown",
   "metadata": {},
   "source": [
    "Adding a new column"
   ]
  },
  {
   "cell_type": "code",
   "execution_count": 44,
   "metadata": {},
   "outputs": [
    {
     "name": "stdout",
     "output_type": "stream",
     "text": [
      "    A   B   C   D   F\n",
      "V  51  92  14  71   5\n",
      "W  60  20  82  86  10\n",
      "X  74  74  87  99  15\n",
      "Y  23   2  21  52  20\n",
      "Z   1  87  29  37  25\n",
      "        A   B   C   D   F\n",
      "V      51  92  14  71   5\n",
      "W      60  20  82  86  10\n",
      "X      74  74  87  99  15\n",
      "Y      23   2  21  52  20\n",
      "Z       1  87  29  37  25\n",
      "Extra  55  65  75  85  95\n"
     ]
    }
   ],
   "source": [
    "df['F']=[5,10,15,20,25]\n",
    "print(df)\n",
    "df.loc['Extra']=[55,65,75,85,95]\n",
    "print(df)"
   ]
  }
 ],
 "metadata": {
  "kernelspec": {
   "display_name": "Python 3",
   "language": "python",
   "name": "python3"
  },
  "language_info": {
   "codemirror_mode": {
    "name": "ipython",
    "version": 3
   },
   "file_extension": ".py",
   "mimetype": "text/x-python",
   "name": "python",
   "nbconvert_exporter": "python",
   "pygments_lexer": "ipython3",
   "version": "3.6.5"
  }
 },
 "nbformat": 4,
 "nbformat_minor": 2
}
