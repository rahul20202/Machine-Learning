{
 "cells": [
  {
   "cell_type": "code",
   "execution_count": 31,
   "metadata": {},
   "outputs": [],
   "source": [
    "data = [\n",
    "    [\"Sunny\", \"Warm\", \"Normal\", \"Strong\", \"Warm\", \"Same\", \"Yes\"],\n",
    "    [\"Sunny\", \"Warm\", \"High\", \"Strong\", \"Warm\", \"Same\", \"Yes\"],\n",
    "    [\"Rainy\", \"Cold\", \"High\", \"Strong\", \"Warm\", \"Change\", \"No\"],\n",
    "    [\"Sunny\", \"Warm\", \"High\", \"Strong\", \"Cool\", \"Change\", \"Yes\"]\n",
    "]"
   ]
  },
  {
   "cell_type": "code",
   "execution_count": 32,
   "metadata": {},
   "outputs": [],
   "source": [
    "def candidate_elimination(data) : \n",
    "    s=[\"$\"]*(len(data[0])-1)\n",
    "    G=[[\"?\"]*(len(data[0])-1)]\n",
    "    \n",
    "    for row in data : \n",
    "        attributes,label=row[:-1],row[-1]\n",
    "        if label == \"Yes\":\n",
    "            for i in range(len(s)):\n",
    "                if s[i]==\"$\":\n",
    "                    s[i]=attributes[i]\n",
    "                elif s[i]!=attributes[i]:\n",
    "                    s[i]=\"?\"\n",
    "            G=[g for g in G if all(g[i]==\"?\" or g[i]==s[i] for i in range(len(s)))]\n",
    "        elif label==\"No\":\n",
    "            new_G=[]\n",
    "            for g in G:\n",
    "                for i in range(len(g)):\n",
    "                    if g[i]==\"?\":\n",
    "                        new_hypothesis=g[:]\n",
    "                        new_hypothesis[i]=attributes[i]\n",
    "                        new_G.append(new_hypothesis)\n",
    "            G=new_G\n",
    "    return s,G"
   ]
  },
  {
   "cell_type": "code",
   "execution_count": 33,
   "metadata": {},
   "outputs": [
    {
     "name": "stdout",
     "output_type": "stream",
     "text": [
      "Final specific hypothesis :  ['Sunny', 'Warm', '?', 'Strong', '?', '?']\n",
      "Final General hypothesis :  [['?', '?', '?', 'Strong', '?', '?']]\n"
     ]
    }
   ],
   "source": [
    "S_final,G_final=candidate_elimination(data)\n",
    "\n",
    "print(\"Final specific hypothesis : \",S_final)\n",
    "print(\"Final General hypothesis : \",G_final)"
   ]
  },
  {
   "cell_type": "code",
   "execution_count": null,
   "metadata": {},
   "outputs": [],
   "source": []
  }
 ],
 "metadata": {
  "kernelspec": {
   "display_name": "Python 3",
   "language": "python",
   "name": "python3"
  },
  "language_info": {
   "codemirror_mode": {
    "name": "ipython",
    "version": 3
   },
   "file_extension": ".py",
   "mimetype": "text/x-python",
   "name": "python",
   "nbconvert_exporter": "python",
   "pygments_lexer": "ipython3",
   "version": "3.6.5"
  }
 },
 "nbformat": 4,
 "nbformat_minor": 2
}
